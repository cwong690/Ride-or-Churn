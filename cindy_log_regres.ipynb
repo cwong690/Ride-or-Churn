{
 "cells": [
  {
   "cell_type": "markdown",
   "metadata": {},
   "source": [
    "## Work Flow\n",
    "\n",
    "1. Perform any cleaning, exploratory analysis, and/or visualizations to use the\n",
    "provided data for this analysis.\n",
    "   \n",
    "2. Build a predictive model to help determine the probability that a rider will\n",
    "be retained.\n",
    "\n",
    "3. Evaluate the model.  Focus on metrics that are important for your *statistical\n",
    "model*.\n",
    " \n",
    "4. Identify / interpret features that are the most influential in affecting\n",
    "your predictions.\n",
    "\n",
    "5. Discuss the validity of your model. Issues such as\n",
    "leakage.  For more on leakage, see [this essay on\n",
    "Kaggle](https://www.kaggle.com/dansbecker/data-leakage), and this paper: [Leakage in Data\n",
    "Mining: Formulation, Detection, and Avoidance](http://citeseerx.ist.psu.edu/viewdoc/download?doi=10.1.1.365.7769&rep=rep1&type=pdf).\n",
    "\n",
    "6. Repeat 2 - 5 until you have a satisfactory model.\n",
    "\n",
    "7. Consider business decisions that your model may indicate are appropriate.\n",
    "Evaluate possible decisions with metrics that are appropriate for *decision\n",
    "rules*."
   ]
  },
  {
   "cell_type": "markdown",
   "metadata": {},
   "source": [
    "## Deliverables\n",
    "\n",
    "- Code you used to build the model.  The more repeatable, self explanatory, the\n",
    "  better.\n",
    "\n",
    "- A presentation including the following points:\n",
    "  - How did you compute the target?\n",
    "  - What model did you use in the end? Why?\n",
    "  - Alternative models you considered? Why are they not good enough?\n",
    "  - What performance metric did you use to evaluate the *model*? Why?\n",
    "  - **Based on insights from the model, what plans do you propose to\n",
    "    reduce churn?**\n",
    "  - What are the potential impacts of implementing these plans or decisions?\n",
    "    What performance metrics did you use to evaluate these *decisions*, why?"
   ]
  },
  {
   "cell_type": "markdown",
   "metadata": {},
   "source": [
    "## Problem Description\n",
    "\n",
    "A ride-sharing company (Company X) is interested in predicting rider retention.\n",
    "To help explore this question, we have provided a sample dataset of a cohort of\n",
    "users who signed up for an account in January 2014. The data was pulled on July\n",
    "1, 2014; we consider a user retained if they were “active” (i.e. took a trip)\n",
    "in the preceding 30 days (from the day the data was pulled). In other words, a\n",
    "user is \"active\" if they have taken a trip since June 1, 2014. The data,\n",
    "`churn.csv`, is in the [data](data) folder.  The data are split into train and\n",
    "test sets.  You are encouraged to tune and estimate your model's performance on\n",
    "the train set, then see how it does on the unseen data in the test set at the\n",
    "end."
   ]
  },
  {
   "cell_type": "markdown",
   "metadata": {},
   "source": [
    "- The 'Feature Importance' discussion is in Random Forests lecture\n",
    "- Also discussed on page 262 of hands-on"
   ]
  },
  {
   "cell_type": "markdown",
   "metadata": {},
   "source": [
    "### Numerical Libraries"
   ]
  },
  {
   "cell_type": "code",
   "execution_count": 96,
   "metadata": {},
   "outputs": [],
   "source": [
    "import mplcyberpunk\n",
    "\n",
    "import pandas as pd\n",
    "import numpy as np\n",
    "import matplotlib.pyplot as plt\n",
    "import seaborn as sns\n",
    "\n",
    "from churn_eda import clean_data\n",
    "\n",
    "import warnings\n",
    "warnings.filterwarnings('ignore')\n",
    "\n",
    "%matplotlib inline\n",
    "plt.style.use(\"ggplot\")\n",
    "# plt.style.use('cyberpunk')"
   ]
  },
  {
   "cell_type": "markdown",
   "metadata": {},
   "source": [
    "### Learning Libraries"
   ]
  },
  {
   "cell_type": "code",
   "execution_count": 97,
   "metadata": {},
   "outputs": [],
   "source": [
    "from sklearn.model_selection import train_test_split, KFold, cross_val_score\n",
    "from sklearn.metrics import mean_squared_error, r2_score, roc_curve, confusion_matrix, accuracy_score, precision_score, recall_score\n",
    "import statsmodels.api as sm\n",
    "\n",
    "from sklearn.linear_model import LogisticRegression"
   ]
  },
  {
   "cell_type": "markdown",
   "metadata": {},
   "source": [
    "### Load in Data"
   ]
  },
  {
   "cell_type": "code",
   "execution_count": 98,
   "metadata": {},
   "outputs": [],
   "source": [
    "df = pd.read_csv('data/churn_train.csv')\n",
    "\n",
    "train = pd.read_csv('data/churn_train.csv')"
   ]
  },
  {
   "cell_type": "code",
   "execution_count": 99,
   "metadata": {},
   "outputs": [],
   "source": [
    "df = clean_data(df)\n",
    "\n",
    "train = clean_data(train)"
   ]
  },
  {
   "cell_type": "code",
   "execution_count": 100,
   "metadata": {},
   "outputs": [
    {
     "data": {
      "text/html": [
       "<div>\n",
       "<style scoped>\n",
       "    .dataframe tbody tr th:only-of-type {\n",
       "        vertical-align: middle;\n",
       "    }\n",
       "\n",
       "    .dataframe tbody tr th {\n",
       "        vertical-align: top;\n",
       "    }\n",
       "\n",
       "    .dataframe thead th {\n",
       "        text-align: right;\n",
       "    }\n",
       "</style>\n",
       "<table border=\"1\" class=\"dataframe\">\n",
       "  <thead>\n",
       "    <tr style=\"text-align: right;\">\n",
       "      <th></th>\n",
       "      <th>avg_dist</th>\n",
       "      <th>avg_rating_by_driver</th>\n",
       "      <th>avg_rating_of_driver</th>\n",
       "      <th>avg_surge</th>\n",
       "      <th>city</th>\n",
       "      <th>phone</th>\n",
       "      <th>surge_pct</th>\n",
       "      <th>trips_in_first_30_days</th>\n",
       "      <th>luxury_car_user</th>\n",
       "      <th>weekday_pct</th>\n",
       "      <th>churn</th>\n",
       "      <th>avg_rating_of_driver_nan</th>\n",
       "      <th>avg_rating_by_driver_nan</th>\n",
       "      <th>days_since_signup</th>\n",
       "    </tr>\n",
       "  </thead>\n",
       "  <tbody>\n",
       "    <tr>\n",
       "      <th>0</th>\n",
       "      <td>6.94</td>\n",
       "      <td>5.0</td>\n",
       "      <td>5.000000</td>\n",
       "      <td>1.00</td>\n",
       "      <td>Astapor</td>\n",
       "      <td>Android</td>\n",
       "      <td>0.0</td>\n",
       "      <td>0</td>\n",
       "      <td>False</td>\n",
       "      <td>100.0</td>\n",
       "      <td>1</td>\n",
       "      <td>0</td>\n",
       "      <td>0</td>\n",
       "      <td>170</td>\n",
       "    </tr>\n",
       "    <tr>\n",
       "      <th>1</th>\n",
       "      <td>8.06</td>\n",
       "      <td>5.0</td>\n",
       "      <td>5.000000</td>\n",
       "      <td>1.00</td>\n",
       "      <td>Astapor</td>\n",
       "      <td>Android</td>\n",
       "      <td>0.0</td>\n",
       "      <td>2</td>\n",
       "      <td>True</td>\n",
       "      <td>0.0</td>\n",
       "      <td>1</td>\n",
       "      <td>0</td>\n",
       "      <td>0</td>\n",
       "      <td>157</td>\n",
       "    </tr>\n",
       "    <tr>\n",
       "      <th>2</th>\n",
       "      <td>21.50</td>\n",
       "      <td>4.0</td>\n",
       "      <td>4.601697</td>\n",
       "      <td>1.00</td>\n",
       "      <td>Winterfell</td>\n",
       "      <td>iPhone</td>\n",
       "      <td>0.0</td>\n",
       "      <td>1</td>\n",
       "      <td>True</td>\n",
       "      <td>100.0</td>\n",
       "      <td>1</td>\n",
       "      <td>1</td>\n",
       "      <td>0</td>\n",
       "      <td>180</td>\n",
       "    </tr>\n",
       "    <tr>\n",
       "      <th>3</th>\n",
       "      <td>9.46</td>\n",
       "      <td>5.0</td>\n",
       "      <td>4.601697</td>\n",
       "      <td>2.75</td>\n",
       "      <td>Winterfell</td>\n",
       "      <td>Android</td>\n",
       "      <td>100.0</td>\n",
       "      <td>1</td>\n",
       "      <td>False</td>\n",
       "      <td>100.0</td>\n",
       "      <td>1</td>\n",
       "      <td>1</td>\n",
       "      <td>0</td>\n",
       "      <td>173</td>\n",
       "    </tr>\n",
       "    <tr>\n",
       "      <th>4</th>\n",
       "      <td>13.77</td>\n",
       "      <td>5.0</td>\n",
       "      <td>4.601697</td>\n",
       "      <td>1.00</td>\n",
       "      <td>Winterfell</td>\n",
       "      <td>iPhone</td>\n",
       "      <td>0.0</td>\n",
       "      <td>0</td>\n",
       "      <td>False</td>\n",
       "      <td>100.0</td>\n",
       "      <td>1</td>\n",
       "      <td>1</td>\n",
       "      <td>0</td>\n",
       "      <td>151</td>\n",
       "    </tr>\n",
       "    <tr>\n",
       "      <th>...</th>\n",
       "      <td>...</td>\n",
       "      <td>...</td>\n",
       "      <td>...</td>\n",
       "      <td>...</td>\n",
       "      <td>...</td>\n",
       "      <td>...</td>\n",
       "      <td>...</td>\n",
       "      <td>...</td>\n",
       "      <td>...</td>\n",
       "      <td>...</td>\n",
       "      <td>...</td>\n",
       "      <td>...</td>\n",
       "      <td>...</td>\n",
       "      <td>...</td>\n",
       "    </tr>\n",
       "    <tr>\n",
       "      <th>95</th>\n",
       "      <td>7.29</td>\n",
       "      <td>5.0</td>\n",
       "      <td>4.500000</td>\n",
       "      <td>1.03</td>\n",
       "      <td>Astapor</td>\n",
       "      <td>iPhone</td>\n",
       "      <td>12.5</td>\n",
       "      <td>1</td>\n",
       "      <td>True</td>\n",
       "      <td>50.0</td>\n",
       "      <td>0</td>\n",
       "      <td>0</td>\n",
       "      <td>0</td>\n",
       "      <td>164</td>\n",
       "    </tr>\n",
       "    <tr>\n",
       "      <th>96</th>\n",
       "      <td>2.22</td>\n",
       "      <td>5.0</td>\n",
       "      <td>4.800000</td>\n",
       "      <td>1.03</td>\n",
       "      <td>King's Landing</td>\n",
       "      <td>Android</td>\n",
       "      <td>11.1</td>\n",
       "      <td>4</td>\n",
       "      <td>False</td>\n",
       "      <td>44.4</td>\n",
       "      <td>0</td>\n",
       "      <td>0</td>\n",
       "      <td>0</td>\n",
       "      <td>151</td>\n",
       "    </tr>\n",
       "    <tr>\n",
       "      <th>97</th>\n",
       "      <td>5.38</td>\n",
       "      <td>4.8</td>\n",
       "      <td>4.700000</td>\n",
       "      <td>1.38</td>\n",
       "      <td>Winterfell</td>\n",
       "      <td>iPhone</td>\n",
       "      <td>30.0</td>\n",
       "      <td>0</td>\n",
       "      <td>False</td>\n",
       "      <td>40.0</td>\n",
       "      <td>0</td>\n",
       "      <td>0</td>\n",
       "      <td>0</td>\n",
       "      <td>157</td>\n",
       "    </tr>\n",
       "    <tr>\n",
       "      <th>98</th>\n",
       "      <td>1.46</td>\n",
       "      <td>5.0</td>\n",
       "      <td>5.000000</td>\n",
       "      <td>1.00</td>\n",
       "      <td>Winterfell</td>\n",
       "      <td>Android</td>\n",
       "      <td>0.0</td>\n",
       "      <td>0</td>\n",
       "      <td>False</td>\n",
       "      <td>0.0</td>\n",
       "      <td>1</td>\n",
       "      <td>0</td>\n",
       "      <td>0</td>\n",
       "      <td>164</td>\n",
       "    </tr>\n",
       "    <tr>\n",
       "      <th>99</th>\n",
       "      <td>5.16</td>\n",
       "      <td>4.3</td>\n",
       "      <td>4.600000</td>\n",
       "      <td>1.03</td>\n",
       "      <td>Winterfell</td>\n",
       "      <td>iPhone</td>\n",
       "      <td>6.3</td>\n",
       "      <td>1</td>\n",
       "      <td>True</td>\n",
       "      <td>50.0</td>\n",
       "      <td>0</td>\n",
       "      <td>0</td>\n",
       "      <td>0</td>\n",
       "      <td>172</td>\n",
       "    </tr>\n",
       "  </tbody>\n",
       "</table>\n",
       "<p>100 rows × 14 columns</p>\n",
       "</div>"
      ],
      "text/plain": [
       "    avg_dist  avg_rating_by_driver  avg_rating_of_driver  avg_surge  \\\n",
       "0       6.94                   5.0              5.000000       1.00   \n",
       "1       8.06                   5.0              5.000000       1.00   \n",
       "2      21.50                   4.0              4.601697       1.00   \n",
       "3       9.46                   5.0              4.601697       2.75   \n",
       "4      13.77                   5.0              4.601697       1.00   \n",
       "..       ...                   ...                   ...        ...   \n",
       "95      7.29                   5.0              4.500000       1.03   \n",
       "96      2.22                   5.0              4.800000       1.03   \n",
       "97      5.38                   4.8              4.700000       1.38   \n",
       "98      1.46                   5.0              5.000000       1.00   \n",
       "99      5.16                   4.3              4.600000       1.03   \n",
       "\n",
       "              city    phone  surge_pct  trips_in_first_30_days  \\\n",
       "0          Astapor  Android        0.0                       0   \n",
       "1          Astapor  Android        0.0                       2   \n",
       "2       Winterfell   iPhone        0.0                       1   \n",
       "3       Winterfell  Android      100.0                       1   \n",
       "4       Winterfell   iPhone        0.0                       0   \n",
       "..             ...      ...        ...                     ...   \n",
       "95         Astapor   iPhone       12.5                       1   \n",
       "96  King's Landing  Android       11.1                       4   \n",
       "97      Winterfell   iPhone       30.0                       0   \n",
       "98      Winterfell  Android        0.0                       0   \n",
       "99      Winterfell   iPhone        6.3                       1   \n",
       "\n",
       "    luxury_car_user  weekday_pct  churn  avg_rating_of_driver_nan  \\\n",
       "0             False        100.0      1                         0   \n",
       "1              True          0.0      1                         0   \n",
       "2              True        100.0      1                         1   \n",
       "3             False        100.0      1                         1   \n",
       "4             False        100.0      1                         1   \n",
       "..              ...          ...    ...                       ...   \n",
       "95             True         50.0      0                         0   \n",
       "96            False         44.4      0                         0   \n",
       "97            False         40.0      0                         0   \n",
       "98            False          0.0      1                         0   \n",
       "99             True         50.0      0                         0   \n",
       "\n",
       "    avg_rating_by_driver_nan  days_since_signup  \n",
       "0                          0                170  \n",
       "1                          0                157  \n",
       "2                          0                180  \n",
       "3                          0                173  \n",
       "4                          0                151  \n",
       "..                       ...                ...  \n",
       "95                         0                164  \n",
       "96                         0                151  \n",
       "97                         0                157  \n",
       "98                         0                164  \n",
       "99                         0                172  \n",
       "\n",
       "[100 rows x 14 columns]"
      ]
     },
     "execution_count": 100,
     "metadata": {},
     "output_type": "execute_result"
    }
   ],
   "source": [
    "df.head(100)"
   ]
  },
  {
   "cell_type": "markdown",
   "metadata": {},
   "source": [
    "## One Hot Encode Categorical"
   ]
  },
  {
   "cell_type": "code",
   "execution_count": 101,
   "metadata": {},
   "outputs": [],
   "source": [
    "from onehotencoding import set_ohe"
   ]
  },
  {
   "cell_type": "code",
   "execution_count": 102,
   "metadata": {},
   "outputs": [],
   "source": [
    "df = set_ohe(df, 'city')\n",
    "df = set_ohe(df, 'phone')"
   ]
  },
  {
   "cell_type": "code",
   "execution_count": 103,
   "metadata": {},
   "outputs": [
    {
     "data": {
      "text/html": [
       "<div>\n",
       "<style scoped>\n",
       "    .dataframe tbody tr th:only-of-type {\n",
       "        vertical-align: middle;\n",
       "    }\n",
       "\n",
       "    .dataframe tbody tr th {\n",
       "        vertical-align: top;\n",
       "    }\n",
       "\n",
       "    .dataframe thead th {\n",
       "        text-align: right;\n",
       "    }\n",
       "</style>\n",
       "<table border=\"1\" class=\"dataframe\">\n",
       "  <thead>\n",
       "    <tr style=\"text-align: right;\">\n",
       "      <th></th>\n",
       "      <th>avg_dist</th>\n",
       "      <th>avg_rating_by_driver</th>\n",
       "      <th>avg_rating_of_driver</th>\n",
       "      <th>avg_surge</th>\n",
       "      <th>surge_pct</th>\n",
       "      <th>trips_in_first_30_days</th>\n",
       "      <th>luxury_car_user</th>\n",
       "      <th>weekday_pct</th>\n",
       "      <th>churn</th>\n",
       "      <th>avg_rating_of_driver_nan</th>\n",
       "      <th>avg_rating_by_driver_nan</th>\n",
       "      <th>days_since_signup</th>\n",
       "      <th>city: Winterfell</th>\n",
       "      <th>city: Astapor</th>\n",
       "      <th>phone: iPhone</th>\n",
       "      <th>phone: Android</th>\n",
       "    </tr>\n",
       "  </thead>\n",
       "  <tbody>\n",
       "    <tr>\n",
       "      <th>0</th>\n",
       "      <td>6.94</td>\n",
       "      <td>5.0</td>\n",
       "      <td>5.000000</td>\n",
       "      <td>1.00</td>\n",
       "      <td>0.0</td>\n",
       "      <td>0</td>\n",
       "      <td>False</td>\n",
       "      <td>100.0</td>\n",
       "      <td>1</td>\n",
       "      <td>0</td>\n",
       "      <td>0</td>\n",
       "      <td>170</td>\n",
       "      <td>0.0</td>\n",
       "      <td>1.0</td>\n",
       "      <td>0.0</td>\n",
       "      <td>1.0</td>\n",
       "    </tr>\n",
       "    <tr>\n",
       "      <th>1</th>\n",
       "      <td>8.06</td>\n",
       "      <td>5.0</td>\n",
       "      <td>5.000000</td>\n",
       "      <td>1.00</td>\n",
       "      <td>0.0</td>\n",
       "      <td>2</td>\n",
       "      <td>True</td>\n",
       "      <td>0.0</td>\n",
       "      <td>1</td>\n",
       "      <td>0</td>\n",
       "      <td>0</td>\n",
       "      <td>157</td>\n",
       "      <td>0.0</td>\n",
       "      <td>1.0</td>\n",
       "      <td>0.0</td>\n",
       "      <td>1.0</td>\n",
       "    </tr>\n",
       "    <tr>\n",
       "      <th>2</th>\n",
       "      <td>21.50</td>\n",
       "      <td>4.0</td>\n",
       "      <td>4.601697</td>\n",
       "      <td>1.00</td>\n",
       "      <td>0.0</td>\n",
       "      <td>1</td>\n",
       "      <td>True</td>\n",
       "      <td>100.0</td>\n",
       "      <td>1</td>\n",
       "      <td>1</td>\n",
       "      <td>0</td>\n",
       "      <td>180</td>\n",
       "      <td>1.0</td>\n",
       "      <td>0.0</td>\n",
       "      <td>1.0</td>\n",
       "      <td>0.0</td>\n",
       "    </tr>\n",
       "    <tr>\n",
       "      <th>3</th>\n",
       "      <td>9.46</td>\n",
       "      <td>5.0</td>\n",
       "      <td>4.601697</td>\n",
       "      <td>2.75</td>\n",
       "      <td>100.0</td>\n",
       "      <td>1</td>\n",
       "      <td>False</td>\n",
       "      <td>100.0</td>\n",
       "      <td>1</td>\n",
       "      <td>1</td>\n",
       "      <td>0</td>\n",
       "      <td>173</td>\n",
       "      <td>1.0</td>\n",
       "      <td>0.0</td>\n",
       "      <td>0.0</td>\n",
       "      <td>1.0</td>\n",
       "    </tr>\n",
       "    <tr>\n",
       "      <th>4</th>\n",
       "      <td>13.77</td>\n",
       "      <td>5.0</td>\n",
       "      <td>4.601697</td>\n",
       "      <td>1.00</td>\n",
       "      <td>0.0</td>\n",
       "      <td>0</td>\n",
       "      <td>False</td>\n",
       "      <td>100.0</td>\n",
       "      <td>1</td>\n",
       "      <td>1</td>\n",
       "      <td>0</td>\n",
       "      <td>151</td>\n",
       "      <td>1.0</td>\n",
       "      <td>0.0</td>\n",
       "      <td>1.0</td>\n",
       "      <td>0.0</td>\n",
       "    </tr>\n",
       "  </tbody>\n",
       "</table>\n",
       "</div>"
      ],
      "text/plain": [
       "   avg_dist  avg_rating_by_driver  avg_rating_of_driver  avg_surge  surge_pct  \\\n",
       "0      6.94                   5.0              5.000000       1.00        0.0   \n",
       "1      8.06                   5.0              5.000000       1.00        0.0   \n",
       "2     21.50                   4.0              4.601697       1.00        0.0   \n",
       "3      9.46                   5.0              4.601697       2.75      100.0   \n",
       "4     13.77                   5.0              4.601697       1.00        0.0   \n",
       "\n",
       "   trips_in_first_30_days  luxury_car_user  weekday_pct  churn  \\\n",
       "0                       0            False        100.0      1   \n",
       "1                       2             True          0.0      1   \n",
       "2                       1             True        100.0      1   \n",
       "3                       1            False        100.0      1   \n",
       "4                       0            False        100.0      1   \n",
       "\n",
       "   avg_rating_of_driver_nan  avg_rating_by_driver_nan  days_since_signup  \\\n",
       "0                         0                         0                170   \n",
       "1                         0                         0                157   \n",
       "2                         1                         0                180   \n",
       "3                         1                         0                173   \n",
       "4                         1                         0                151   \n",
       "\n",
       "   city: Winterfell  city: Astapor  phone: iPhone  phone: Android  \n",
       "0               0.0            1.0            0.0             1.0  \n",
       "1               0.0            1.0            0.0             1.0  \n",
       "2               1.0            0.0            1.0             0.0  \n",
       "3               1.0            0.0            0.0             1.0  \n",
       "4               1.0            0.0            1.0             0.0  "
      ]
     },
     "execution_count": 103,
     "metadata": {},
     "output_type": "execute_result"
    }
   ],
   "source": [
    "df.head()"
   ]
  },
  {
   "cell_type": "markdown",
   "metadata": {},
   "source": [
    "## Train/Test Split"
   ]
  },
  {
   "cell_type": "code",
   "execution_count": 104,
   "metadata": {},
   "outputs": [],
   "source": [
    "y = df.pop('churn').values\n",
    "X = df.values"
   ]
  },
  {
   "cell_type": "code",
   "execution_count": 105,
   "metadata": {},
   "outputs": [
    {
     "data": {
      "text/plain": [
       "array([1, 1, 1, ..., 0, 1, 0])"
      ]
     },
     "execution_count": 105,
     "metadata": {},
     "output_type": "execute_result"
    }
   ],
   "source": [
    "y"
   ]
  },
  {
   "cell_type": "code",
   "execution_count": 106,
   "metadata": {},
   "outputs": [],
   "source": [
    "X_train, X_test, y_train, y_test = train_test_split(X, y)"
   ]
  },
  {
   "cell_type": "markdown",
   "metadata": {},
   "source": [
    "## OLS"
   ]
  },
  {
   "cell_type": "code",
   "execution_count": 107,
   "metadata": {},
   "outputs": [],
   "source": [
    "# ols = sm.OLS(y_train, X_train).fit()\n",
    "# ols.summary()"
   ]
  },
  {
   "cell_type": "code",
   "execution_count": 108,
   "metadata": {},
   "outputs": [],
   "source": [
    "# ols_results = ols.predict(X_test)\n",
    "# print('OLS MSE: ', mean_squared_error(y_test, ols_results))\n",
    "# print('OLS R2: ', r2_score(y_test, ols_results))"
   ]
  },
  {
   "cell_type": "markdown",
   "metadata": {},
   "source": [
    "## Logistic Regression"
   ]
  },
  {
   "cell_type": "markdown",
   "metadata": {},
   "source": [
    "### Test 1: No tuning, simple run"
   ]
  },
  {
   "cell_type": "code",
   "execution_count": 109,
   "metadata": {},
   "outputs": [],
   "source": [
    "lr = LogisticRegression()"
   ]
  },
  {
   "cell_type": "code",
   "execution_count": 110,
   "metadata": {},
   "outputs": [
    {
     "data": {
      "text/plain": [
       "LogisticRegression(C=1.0, class_weight=None, dual=False, fit_intercept=True,\n",
       "          intercept_scaling=1, max_iter=100, multi_class='ovr', n_jobs=1,\n",
       "          penalty='l2', random_state=None, solver='liblinear', tol=0.0001,\n",
       "          verbose=0, warm_start=False)"
      ]
     },
     "execution_count": 110,
     "metadata": {},
     "output_type": "execute_result"
    }
   ],
   "source": [
    "lr.fit(X_train, y_train)"
   ]
  },
  {
   "cell_type": "code",
   "execution_count": 111,
   "metadata": {},
   "outputs": [
    {
     "data": {
      "text/plain": [
       "array([1, 0, 1, ..., 1, 0, 1])"
      ]
     },
     "execution_count": 111,
     "metadata": {},
     "output_type": "execute_result"
    }
   ],
   "source": [
    "results = lr.predict(X_test)\n",
    "results"
   ]
  },
  {
   "cell_type": "code",
   "execution_count": 112,
   "metadata": {},
   "outputs": [
    {
     "data": {
      "text/plain": [
       "array([[0.39723514, 0.60276486],\n",
       "       [0.69420798, 0.30579202],\n",
       "       [0.43445044, 0.56554956],\n",
       "       ...,\n",
       "       [0.11163447, 0.88836553],\n",
       "       [0.66734013, 0.33265987],\n",
       "       [0.27622492, 0.72377508]])"
      ]
     },
     "execution_count": 112,
     "metadata": {},
     "output_type": "execute_result"
    }
   ],
   "source": [
    "proba_results = lr.predict_proba(X_test)\n",
    "proba_results"
   ]
  },
  {
   "cell_type": "code",
   "execution_count": 113,
   "metadata": {},
   "outputs": [],
   "source": [
    "lr_cols = np.array(df.columns).reshape(-1,1)\n",
    "lr_coefs = np.round(lr.coef_, 2).reshape(-1,1)"
   ]
  },
  {
   "cell_type": "code",
   "execution_count": 114,
   "metadata": {},
   "outputs": [],
   "source": [
    "lr_col_coefs = np.concatenate((lr_cols, lr_coefs), axis=1)\n",
    "lr_coefs_df = pd.DataFrame(lr_col_coefs, columns=['Feature Names', 'Coefficients'])\n",
    "lr_coefs_df.set_index('Feature Names', inplace=True)"
   ]
  },
  {
   "cell_type": "code",
   "execution_count": 115,
   "metadata": {},
   "outputs": [
    {
     "data": {
      "text/html": [
       "<div>\n",
       "<style scoped>\n",
       "    .dataframe tbody tr th:only-of-type {\n",
       "        vertical-align: middle;\n",
       "    }\n",
       "\n",
       "    .dataframe tbody tr th {\n",
       "        vertical-align: top;\n",
       "    }\n",
       "\n",
       "    .dataframe thead th {\n",
       "        text-align: right;\n",
       "    }\n",
       "</style>\n",
       "<table border=\"1\" class=\"dataframe\">\n",
       "  <thead>\n",
       "    <tr style=\"text-align: right;\">\n",
       "      <th></th>\n",
       "      <th>Coefficients</th>\n",
       "    </tr>\n",
       "    <tr>\n",
       "      <th>Feature Names</th>\n",
       "      <th></th>\n",
       "    </tr>\n",
       "  </thead>\n",
       "  <tbody>\n",
       "    <tr>\n",
       "      <th>avg_dist</th>\n",
       "      <td>0.03</td>\n",
       "    </tr>\n",
       "    <tr>\n",
       "      <th>avg_rating_by_driver</th>\n",
       "      <td>0.18</td>\n",
       "    </tr>\n",
       "    <tr>\n",
       "      <th>avg_rating_of_driver</th>\n",
       "      <td>0.06</td>\n",
       "    </tr>\n",
       "    <tr>\n",
       "      <th>avg_surge</th>\n",
       "      <td>0.17</td>\n",
       "    </tr>\n",
       "    <tr>\n",
       "      <th>surge_pct</th>\n",
       "      <td>-0</td>\n",
       "    </tr>\n",
       "    <tr>\n",
       "      <th>trips_in_first_30_days</th>\n",
       "      <td>-0.11</td>\n",
       "    </tr>\n",
       "    <tr>\n",
       "      <th>luxury_car_user</th>\n",
       "      <td>-0.87</td>\n",
       "    </tr>\n",
       "    <tr>\n",
       "      <th>weekday_pct</th>\n",
       "      <td>0</td>\n",
       "    </tr>\n",
       "    <tr>\n",
       "      <th>avg_rating_of_driver_nan</th>\n",
       "      <td>0.66</td>\n",
       "    </tr>\n",
       "    <tr>\n",
       "      <th>avg_rating_by_driver_nan</th>\n",
       "      <td>0.42</td>\n",
       "    </tr>\n",
       "    <tr>\n",
       "      <th>days_since_signup</th>\n",
       "      <td>-0.01</td>\n",
       "    </tr>\n",
       "    <tr>\n",
       "      <th>city: Winterfell</th>\n",
       "      <td>1.19</td>\n",
       "    </tr>\n",
       "    <tr>\n",
       "      <th>city: Astapor</th>\n",
       "      <td>1.72</td>\n",
       "    </tr>\n",
       "    <tr>\n",
       "      <th>phone: iPhone</th>\n",
       "      <td>-0.77</td>\n",
       "    </tr>\n",
       "    <tr>\n",
       "      <th>phone: Android</th>\n",
       "      <td>0.29</td>\n",
       "    </tr>\n",
       "  </tbody>\n",
       "</table>\n",
       "</div>"
      ],
      "text/plain": [
       "                         Coefficients\n",
       "Feature Names                        \n",
       "avg_dist                         0.03\n",
       "avg_rating_by_driver             0.18\n",
       "avg_rating_of_driver             0.06\n",
       "avg_surge                        0.17\n",
       "surge_pct                          -0\n",
       "trips_in_first_30_days          -0.11\n",
       "luxury_car_user                 -0.87\n",
       "weekday_pct                         0\n",
       "avg_rating_of_driver_nan         0.66\n",
       "avg_rating_by_driver_nan         0.42\n",
       "days_since_signup               -0.01\n",
       "city: Winterfell                 1.19\n",
       "city: Astapor                    1.72\n",
       "phone: iPhone                   -0.77\n",
       "phone: Android                   0.29"
      ]
     },
     "execution_count": 115,
     "metadata": {},
     "output_type": "execute_result"
    }
   ],
   "source": [
    "lr_coefs_df"
   ]
  },
  {
   "cell_type": "code",
   "execution_count": 116,
   "metadata": {},
   "outputs": [
    {
     "data": {
      "image/png": "[encoded data removed]",
      "text/plain": [
       "<Figure size 648x432 with 1 Axes>"
      ]
     },
     "metadata": {},
     "output_type": "display_data"
    }
   ],
   "source": [
    "lr_coefs_df.sort_values(by='Coefficients').plot(kind='barh', figsize=(9,6))\n",
    "plt.title('Feature Coefficients for Simple Logistics Regression')\n",
    "plt.xlabel('Coefficients')\n",
    "plt.legend(loc='lower right')\n",
    "\n",
    "plt.savefig('images/simp_barh_lr_coefs.png')"
   ]
  },
  {
   "cell_type": "code",
   "execution_count": 117,
   "metadata": {},
   "outputs": [
    {
     "name": "stdout",
     "output_type": "stream",
     "text": [
      "Logistic Regression MSE      : 0.27250\n",
      "Logistic Regression R2       : -0.16404\n",
      "Logistic Regression Accuracy : 0.72750\n",
      "Logistic Regression Precision: 0.74515\n",
      "Logistic Regression Recall   : 0.85833\n"
     ]
    }
   ],
   "source": [
    "print(f'Logistic Regression MSE      : {mean_squared_error(y_test, results):2.5f}')\n",
    "print(f'Logistic Regression R2       : {r2_score(y_test, results):2.5f}')\n",
    "print(f'Logistic Regression Accuracy : {accuracy_score(y_test, results):2.5f}')\n",
    "print(f'Logistic Regression Precision: {precision_score(y_test, results):2.5f}')\n",
    "print(f'Logistic Regression Recall   : {recall_score(y_test, results):2.5f}')"
   ]
  },
  {
   "cell_type": "code",
   "execution_count": 118,
   "metadata": {},
   "outputs": [
    {
     "data": {
      "text/plain": [
       "array([[1901, 1838],\n",
       "       [ 887, 5374]])"
      ]
     },
     "execution_count": 118,
     "metadata": {},
     "output_type": "execute_result"
    }
   ],
   "source": [
    "confusion_matrix(y_test, results)"
   ]
  },
  {
   "cell_type": "markdown",
   "metadata": {},
   "source": [
    "### Test 2: With KFolds"
   ]
  },
  {
   "cell_type": "code",
   "execution_count": 137,
   "metadata": {},
   "outputs": [],
   "source": [
    "# def roc_curve(probabilities, labels):\n",
    "#     '''\n",
    "#     INPUT: numpy array, numpy array\n",
    "#     OUTPUT: list, list, list\n",
    "\n",
    "#     Take a numpy array of the predicted probabilities and a numpy array of the\n",
    "#     true labels.\n",
    "#     Return the True Positive Rates, False Positive Rates and Thresholds for the\n",
    "#     ROC curve.\n",
    "    \n",
    "#     function ROC_curve(probabilities, labels):\n",
    "#     Sort instances by their prediction strength (the probabilities)\n",
    "#     For every instance in increasing order of probability:\n",
    "#         Set the threshold to be the probability\n",
    "#         Set everything above the threshold to the positive class\n",
    "#         Calculate the True Positive Rate (aka sensitivity or recall)\n",
    "#         Calculate the False Positive Rate (1 - specificity)\n",
    "#     Return three lists: TPRs, FPRs, thresholds\n",
    "#     '''\n",
    "    \n",
    "#     thresholds = sorted(probabilities)\n",
    "#     tprs = []\n",
    "#     fprs = []\n",
    "    \n",
    "#     for p in thresholds:\n",
    "#         positives = probabilities >= p\n",
    "        \n",
    "#         true_pos = np.sum(positives * labels)\n",
    "#         false_pos = np.sum(positives) - true_pos\n",
    "        \n",
    "#         tpr = true_pos / (sum(labels))\n",
    "#         fpr = false_pos / (len(labels) - sum(labels))\n",
    "        \n",
    "#         tprs.append(tpr)\n",
    "#         fprs.append(fpr)\n",
    "            \n",
    "#     return tprs, fprs, thresholds"
   ]
  },
  {
   "cell_type": "code",
   "execution_count": 138,
   "metadata": {},
   "outputs": [],
   "source": [
    "def k_folds_models(X_data, y_data, num_splits, penalty='l2'):\n",
    "    kfold = KFold(n_splits=num_splits)\n",
    "    \n",
    "    models = []\n",
    "    mses = []\n",
    "    accuracies = []\n",
    "    precisions = []\n",
    "    recalls = []\n",
    "    \n",
    "    fprs = []\n",
    "    tprs = []\n",
    "    thresholds = []\n",
    "    \n",
    "    for train, validation in kfold.split(X_data):\n",
    "        lr_2 = LogisticRegression(penalty=penalty)\n",
    "        lr_2.fit(X_data[train], y_data[train])\n",
    "        pred = lr_2.predict(X_data[validation])\n",
    "        proba = lr_2.predict_proba(X_data[validation])\n",
    "        \n",
    "        #save each model to go back for reference\n",
    "        models.append(lr_2)\n",
    "        \n",
    "        #mean squared error of the y_test values and the predicted\n",
    "        err = mean_squared_error(y_train[validation], pred)\n",
    "        mses.append(err)\n",
    "        \n",
    "        #accuracy scores\n",
    "        accu = accuracy_score(y_train[validation], pred)\n",
    "        accuracies.append(accu)\n",
    "        \n",
    "        #precision scores\n",
    "        precise = precision_score(y_train[validation], pred)\n",
    "        precisions.append(precise)\n",
    "        \n",
    "        #recall scores\n",
    "        recall = recall_score(y_train[validation], pred)\n",
    "        recalls.append(recall)\n",
    "        \n",
    "        fpr_val, tpr_val, thresholds_val = roc_curve(y_train[validation], proba[:,1])\n",
    "        \n",
    "        fprs.append(fpr_val)\n",
    "        tprs.append(tpr_val)\n",
    "        thresholds.append(thresholds_val)\n",
    "        \n",
    "    return (models, mses, accuracies, precisions, recalls, fprs, tprs, thresholds)"
   ]
  },
  {
   "cell_type": "code",
   "execution_count": 139,
   "metadata": {},
   "outputs": [
    {
     "name": "stdout",
     "output_type": "stream",
     "text": [
      "Logistic Regression with KFolds: 3 \n",
      "\n",
      "     Average Accuracy Score  : 0.72387\n",
      "     Average Precision Score : 0.74134\n",
      "     Average Recall Score    : 0.85578\n",
      "     Average MSE Score       : 0.27613\n"
     ]
    }
   ],
   "source": [
    "num_splits = 3\n",
    "model_3, mse_3, accuracies_3, precisions_3, recalls_3, fpr, tpr, thresholds = k_folds_models(X_train, y_train, num_splits)\n",
    "\n",
    "print(f'Logistic Regression with KFolds: {num_splits} \\n')\n",
    "print(f'     Average Accuracy Score  : {np.mean(accuracies_3):2.5f}')\n",
    "print(f'     Average Precision Score : {np.mean(precisions_3):2.5f}')\n",
    "print(f'     Average Recall Score    : {np.mean(recalls_3):2.5f}')\n",
    "print(f'     Average MSE Score       : {np.mean(mse_3):2.5f}')"
   ]
  },
  {
   "cell_type": "code",
   "execution_count": 140,
   "metadata": {},
   "outputs": [
    {
     "data": {
      "image/png": "[encoded data removed]",
      "text/plain": [
       "<Figure size 576x360 with 1 Axes>"
      ]
     },
     "metadata": {},
     "output_type": "display_data"
    },
    {
     "data": {
      "text/plain": [
       "<Figure size 432x288 with 0 Axes>"
      ]
     },
     "metadata": {},
     "output_type": "display_data"
    }
   ],
   "source": [
    "fig, ax = plt.subplots(figsize=(8,5))\n",
    "\n",
    "for i in range(len(fpr)):\n",
    "    ax.plot(fpr[i], tpr[i])\n",
    "    ax.plot([0,1], [0,1], 'k--')\n",
    "    ax.set_title('Logistic Regression with 3 folds')\n",
    "    plt.show()\n",
    "    \n",
    "plt.savefig('images/kfolds_3.png')"
   ]
  },
  {
   "cell_type": "code",
   "execution_count": 141,
   "metadata": {},
   "outputs": [
    {
     "name": "stdout",
     "output_type": "stream",
     "text": [
      "Logistic Regression with KFolds: 5 \n",
      "\n",
      "     Average Accuracy Score  : 0.72417\n",
      "     Average Precision Score : 0.74156\n",
      "     Average Recall Score    : 0.85600\n",
      "     Average MSE Score       : 0.27583\n"
     ]
    }
   ],
   "source": [
    "num_splits = 5\n",
    "model, mse, accuracies, precisions, recalls, fpr, tpr, thresholds= k_folds_models(X_train, y_train, num_splits)\n",
    "\n",
    "print(f'Logistic Regression with KFolds: {num_splits} \\n')\n",
    "print(f'     Average Accuracy Score  : {np.mean(accuracies):2.5f}')\n",
    "print(f'     Average Precision Score : {np.mean(precisions):2.5f}')\n",
    "print(f'     Average Recall Score    : {np.mean(recalls):2.5f}')\n",
    "print(f'     Average MSE Score       : {np.mean(mse):2.5f}')"
   ]
  },
  {
   "cell_type": "code",
   "execution_count": 142,
   "metadata": {},
   "outputs": [
    {
     "data": {
      "image/png": "[encoded data removed]",
      "text/plain": [
       "<Figure size 576x360 with 1 Axes>"
      ]
     },
     "metadata": {},
     "output_type": "display_data"
    },
    {
     "data": {
      "text/plain": [
       "<Figure size 432x288 with 0 Axes>"
      ]
     },
     "metadata": {},
     "output_type": "display_data"
    }
   ],
   "source": [
    "fig, ax = plt.subplots(figsize=(8,5))\n",
    "\n",
    "for i in range(len(fpr)):\n",
    "    ax.plot(fpr[i], tpr[i])\n",
    "    ax.plot([0,1], [0,1], 'k--')\n",
    "    ax.set_title('Logistic Regression with 5 folds', color='black')\n",
    "    plt.show()\n",
    "    \n",
    "plt.savefig('images/kfolds_5.png')"
   ]
  },
  {
   "cell_type": "code",
   "execution_count": 143,
   "metadata": {},
   "outputs": [
    {
     "name": "stdout",
     "output_type": "stream",
     "text": [
      "Logistic Regression with KFolds: 10 \n",
      "\n",
      "     Average Accuracy Score  : 0.72407\n",
      "     Average Precision Score : 0.74159\n",
      "     Average Recall Score    : 0.85570\n",
      "     Average MSE Score       : 0.27593\n"
     ]
    }
   ],
   "source": [
    "num_splits = 10\n",
    "model, mse, accuracies, precisions, recalls, fpr, tpr, thresholds = k_folds_models(X_train, y_train, num_splits)\n",
    "\n",
    "print(f'Logistic Regression with KFolds: {num_splits} \\n')\n",
    "print(f'     Average Accuracy Score  : {np.mean(accuracies):2.5f}')\n",
    "print(f'     Average Precision Score : {np.mean(precisions):2.5f}')\n",
    "print(f'     Average Recall Score    : {np.mean(recalls):2.5f}')\n",
    "print(f'     Average MSE Score       : {np.mean(mse):2.5f}')"
   ]
  },
  {
   "cell_type": "code",
   "execution_count": 144,
   "metadata": {},
   "outputs": [
    {
     "data": {
      "image/png": "[encoded data removed]",
      "text/plain": [
       "<Figure size 576x360 with 1 Axes>"
      ]
     },
     "metadata": {},
     "output_type": "display_data"
    },
    {
     "data": {
      "text/plain": [
       "<Figure size 432x288 with 0 Axes>"
      ]
     },
     "metadata": {},
     "output_type": "display_data"
    }
   ],
   "source": [
    "fig, ax = plt.subplots(figsize=(8,5))\n",
    "\n",
    "for i in range(len(fpr)):\n",
    "    ax.plot(fpr[i], tpr[i])\n",
    "    ax.plot([0,1], [0,1], 'k--')\n",
    "    ax.set_title('Logistic Regression with 10 folds', color='black')\n",
    "    plt.show()\n",
    "    \n",
    "plt.savefig('images/kfolds_10.png')"
   ]
  },
  {
   "cell_type": "code",
   "execution_count": 145,
   "metadata": {},
   "outputs": [
    {
     "data": {
      "image/png": "[encoded data removed]",
      "text/plain": [
       "<Figure size 576x360 with 1 Axes>"
      ]
     },
     "metadata": {},
     "output_type": "display_data"
    }
   ],
   "source": [
    "fig, ax = plt.subplots(figsize=(8,5))\n",
    "\n",
    "ax.plot(fpr[0], tpr[0])\n",
    "ax.plot(fpr[1], tpr[1], color='b')\n",
    "ax.plot([0,1], [0,1], 'k--')\n",
    "plt.show()"
   ]
  },
  {
   "cell_type": "code",
   "execution_count": 29,
   "metadata": {},
   "outputs": [],
   "source": [
    "# cols_kfolds_10 = np.array(df.columns).reshape(-1,1)\n",
    "# coefs_kfolds_10 = np.round(lr_2.coef_, 2).reshape(-1,1)\n",
    "# col_coefs_kfolds_10 = np.concatenate((lr_cols, lr_coefs), axis=1)\n",
    "# df_kfolds_10 = pd.DataFrame(lr_col_coefs, columns=['Feature Names', 'Coefficients'])\n",
    "# df_kfolds_10"
   ]
  },
  {
   "cell_type": "code",
   "execution_count": null,
   "metadata": {},
   "outputs": [],
   "source": []
  }
 ],
 "metadata": {
  "kernelspec": {
   "display_name": "Python 3",
   "language": "python",
   "name": "python3"
  },
  "language_info": {
   "codemirror_mode": {
    "name": "ipython",
    "version": 3
   },
   "file_extension": ".py",
   "mimetype": "text/x-python",
   "name": "python",
   "nbconvert_exporter": "python",
   "pygments_lexer": "ipython3",
   "version": "3.7.0"
  }
 },
 "nbformat": 4,
 "nbformat_minor": 4
}
